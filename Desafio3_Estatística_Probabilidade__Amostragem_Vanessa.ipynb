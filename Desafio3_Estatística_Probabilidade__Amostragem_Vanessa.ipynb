{
  "nbformat": 4,
  "nbformat_minor": 0,
  "metadata": {
    "colab": {
      "provenance": [],
      "authorship_tag": "ABX9TyNld+Sairnb9cWDdZEVPbZf",
      "include_colab_link": true
    },
    "kernelspec": {
      "name": "python3",
      "display_name": "Python 3"
    },
    "language_info": {
      "name": "python"
    }
  },
  "cells": [
    {
      "cell_type": "markdown",
      "metadata": {
        "id": "view-in-github",
        "colab_type": "text"
      },
      "source": [
        "<a href=\"https://colab.research.google.com/github/Vanlimp/WoMakersCode_DataAnalytics_DesafiosIndividuais/blob/main/Desafio3_Estat%C3%ADstica_Probabilidade__Amostragem_Vanessa.ipynb\" target=\"_parent\"><img src=\"https://colab.research.google.com/assets/colab-badge.svg\" alt=\"Open In Colab\"/></a>"
      ]
    },
    {
      "cell_type": "markdown",
      "source": [
        "#Estatística - Probabilidade e Amostragem Desafio Final\n",
        "\n",
        "Você é uma pesquisadora desenvolvendo uma análise sobre as características\n",
        "da força de trabalho nos estados brasileiros. Responda as perguntas abaixo:\n"
      ],
      "metadata": {
        "id": "3FX3WtodgrHb"
      }
    },
    {
      "cell_type": "code",
      "execution_count": 28,
      "metadata": {
        "id": "8ngCtAvRTt9J"
      },
      "outputs": [],
      "source": [
        "\n",
        "# Importando todas as bibliotecas utilizadas no desafio:\n",
        "# Manipulação de dados\n",
        "import pandas as pd\n",
        "import numpy as np\n",
        "\n",
        "# Visualização de dados\n",
        "import matplotlib.pyplot as plt\n",
        "import seaborn as sns\n",
        "\n",
        "# Estatística e testes de hipóteses\n",
        "from scipy.stats import norm\n",
        "import statsmodels.api as sm\n",
        "import statsmodels.stats.api as sms\n",
        "\n"
      ]
    },
    {
      "cell_type": "code",
      "source": [
        "url = 'https://raw.githubusercontent.com/Vanlimp/WoMakersCode_DataAnalytics_DesafiosIndividuais/refs/heads/main/populacao_brasileira.csv'\n",
        "\n",
        "df = pd.read_csv(url)\n",
        "\n",
        "df.head()"
      ],
      "metadata": {
        "colab": {
          "base_uri": "https://localhost:8080/",
          "height": 206
        },
        "id": "Ej79Eow0h0eK",
        "outputId": "a873a970-553b-4b43-8982-900d0067852f"
      },
      "execution_count": 3,
      "outputs": [
        {
          "output_type": "execute_result",
          "data": {
            "text/plain": [
              "   Unnamed: 0 estado  idade escolaridade nível de proficiência em inglês  \\\n",
              "0           0     MA     56  Fundamental                   Intermediário   \n",
              "1           1     BA     46     Superior                          Básico   \n",
              "2           2     AM     32  Fundamental                   Intermediário   \n",
              "3           3     CE     60     Superior                          Básico   \n",
              "4           4     SE     25  Fundamental                        Avançado   \n",
              "\n",
              "     renda sexo  \n",
              "0  4006.29    F  \n",
              "1  2423.11    M  \n",
              "2  3835.69    M  \n",
              "3  1870.29    M  \n",
              "4  3529.80    M  "
            ],
            "text/html": [
              "\n",
              "  <div id=\"df-ab013da5-b3d2-4ef7-b25e-5b90fe0d4863\" class=\"colab-df-container\">\n",
              "    <div>\n",
              "<style scoped>\n",
              "    .dataframe tbody tr th:only-of-type {\n",
              "        vertical-align: middle;\n",
              "    }\n",
              "\n",
              "    .dataframe tbody tr th {\n",
              "        vertical-align: top;\n",
              "    }\n",
              "\n",
              "    .dataframe thead th {\n",
              "        text-align: right;\n",
              "    }\n",
              "</style>\n",
              "<table border=\"1\" class=\"dataframe\">\n",
              "  <thead>\n",
              "    <tr style=\"text-align: right;\">\n",
              "      <th></th>\n",
              "      <th>Unnamed: 0</th>\n",
              "      <th>estado</th>\n",
              "      <th>idade</th>\n",
              "      <th>escolaridade</th>\n",
              "      <th>nível de proficiência em inglês</th>\n",
              "      <th>renda</th>\n",
              "      <th>sexo</th>\n",
              "    </tr>\n",
              "  </thead>\n",
              "  <tbody>\n",
              "    <tr>\n",
              "      <th>0</th>\n",
              "      <td>0</td>\n",
              "      <td>MA</td>\n",
              "      <td>56</td>\n",
              "      <td>Fundamental</td>\n",
              "      <td>Intermediário</td>\n",
              "      <td>4006.29</td>\n",
              "      <td>F</td>\n",
              "    </tr>\n",
              "    <tr>\n",
              "      <th>1</th>\n",
              "      <td>1</td>\n",
              "      <td>BA</td>\n",
              "      <td>46</td>\n",
              "      <td>Superior</td>\n",
              "      <td>Básico</td>\n",
              "      <td>2423.11</td>\n",
              "      <td>M</td>\n",
              "    </tr>\n",
              "    <tr>\n",
              "      <th>2</th>\n",
              "      <td>2</td>\n",
              "      <td>AM</td>\n",
              "      <td>32</td>\n",
              "      <td>Fundamental</td>\n",
              "      <td>Intermediário</td>\n",
              "      <td>3835.69</td>\n",
              "      <td>M</td>\n",
              "    </tr>\n",
              "    <tr>\n",
              "      <th>3</th>\n",
              "      <td>3</td>\n",
              "      <td>CE</td>\n",
              "      <td>60</td>\n",
              "      <td>Superior</td>\n",
              "      <td>Básico</td>\n",
              "      <td>1870.29</td>\n",
              "      <td>M</td>\n",
              "    </tr>\n",
              "    <tr>\n",
              "      <th>4</th>\n",
              "      <td>4</td>\n",
              "      <td>SE</td>\n",
              "      <td>25</td>\n",
              "      <td>Fundamental</td>\n",
              "      <td>Avançado</td>\n",
              "      <td>3529.80</td>\n",
              "      <td>M</td>\n",
              "    </tr>\n",
              "  </tbody>\n",
              "</table>\n",
              "</div>\n",
              "    <div class=\"colab-df-buttons\">\n",
              "\n",
              "  <div class=\"colab-df-container\">\n",
              "    <button class=\"colab-df-convert\" onclick=\"convertToInteractive('df-ab013da5-b3d2-4ef7-b25e-5b90fe0d4863')\"\n",
              "            title=\"Convert this dataframe to an interactive table.\"\n",
              "            style=\"display:none;\">\n",
              "\n",
              "  <svg xmlns=\"http://www.w3.org/2000/svg\" height=\"24px\" viewBox=\"0 -960 960 960\">\n",
              "    <path d=\"M120-120v-720h720v720H120Zm60-500h600v-160H180v160Zm220 220h160v-160H400v160Zm0 220h160v-160H400v160ZM180-400h160v-160H180v160Zm440 0h160v-160H620v160ZM180-180h160v-160H180v160Zm440 0h160v-160H620v160Z\"/>\n",
              "  </svg>\n",
              "    </button>\n",
              "\n",
              "  <style>\n",
              "    .colab-df-container {\n",
              "      display:flex;\n",
              "      gap: 12px;\n",
              "    }\n",
              "\n",
              "    .colab-df-convert {\n",
              "      background-color: #E8F0FE;\n",
              "      border: none;\n",
              "      border-radius: 50%;\n",
              "      cursor: pointer;\n",
              "      display: none;\n",
              "      fill: #1967D2;\n",
              "      height: 32px;\n",
              "      padding: 0 0 0 0;\n",
              "      width: 32px;\n",
              "    }\n",
              "\n",
              "    .colab-df-convert:hover {\n",
              "      background-color: #E2EBFA;\n",
              "      box-shadow: 0px 1px 2px rgba(60, 64, 67, 0.3), 0px 1px 3px 1px rgba(60, 64, 67, 0.15);\n",
              "      fill: #174EA6;\n",
              "    }\n",
              "\n",
              "    .colab-df-buttons div {\n",
              "      margin-bottom: 4px;\n",
              "    }\n",
              "\n",
              "    [theme=dark] .colab-df-convert {\n",
              "      background-color: #3B4455;\n",
              "      fill: #D2E3FC;\n",
              "    }\n",
              "\n",
              "    [theme=dark] .colab-df-convert:hover {\n",
              "      background-color: #434B5C;\n",
              "      box-shadow: 0px 1px 3px 1px rgba(0, 0, 0, 0.15);\n",
              "      filter: drop-shadow(0px 1px 2px rgba(0, 0, 0, 0.3));\n",
              "      fill: #FFFFFF;\n",
              "    }\n",
              "  </style>\n",
              "\n",
              "    <script>\n",
              "      const buttonEl =\n",
              "        document.querySelector('#df-ab013da5-b3d2-4ef7-b25e-5b90fe0d4863 button.colab-df-convert');\n",
              "      buttonEl.style.display =\n",
              "        google.colab.kernel.accessAllowed ? 'block' : 'none';\n",
              "\n",
              "      async function convertToInteractive(key) {\n",
              "        const element = document.querySelector('#df-ab013da5-b3d2-4ef7-b25e-5b90fe0d4863');\n",
              "        const dataTable =\n",
              "          await google.colab.kernel.invokeFunction('convertToInteractive',\n",
              "                                                    [key], {});\n",
              "        if (!dataTable) return;\n",
              "\n",
              "        const docLinkHtml = 'Like what you see? Visit the ' +\n",
              "          '<a target=\"_blank\" href=https://colab.research.google.com/notebooks/data_table.ipynb>data table notebook</a>'\n",
              "          + ' to learn more about interactive tables.';\n",
              "        element.innerHTML = '';\n",
              "        dataTable['output_type'] = 'display_data';\n",
              "        await google.colab.output.renderOutput(dataTable, element);\n",
              "        const docLink = document.createElement('div');\n",
              "        docLink.innerHTML = docLinkHtml;\n",
              "        element.appendChild(docLink);\n",
              "      }\n",
              "    </script>\n",
              "  </div>\n",
              "\n",
              "\n",
              "<div id=\"df-8b08984f-4189-4f95-926e-13aec2e05a2a\">\n",
              "  <button class=\"colab-df-quickchart\" onclick=\"quickchart('df-8b08984f-4189-4f95-926e-13aec2e05a2a')\"\n",
              "            title=\"Suggest charts\"\n",
              "            style=\"display:none;\">\n",
              "\n",
              "<svg xmlns=\"http://www.w3.org/2000/svg\" height=\"24px\"viewBox=\"0 0 24 24\"\n",
              "     width=\"24px\">\n",
              "    <g>\n",
              "        <path d=\"M19 3H5c-1.1 0-2 .9-2 2v14c0 1.1.9 2 2 2h14c1.1 0 2-.9 2-2V5c0-1.1-.9-2-2-2zM9 17H7v-7h2v7zm4 0h-2V7h2v10zm4 0h-2v-4h2v4z\"/>\n",
              "    </g>\n",
              "</svg>\n",
              "  </button>\n",
              "\n",
              "<style>\n",
              "  .colab-df-quickchart {\n",
              "      --bg-color: #E8F0FE;\n",
              "      --fill-color: #1967D2;\n",
              "      --hover-bg-color: #E2EBFA;\n",
              "      --hover-fill-color: #174EA6;\n",
              "      --disabled-fill-color: #AAA;\n",
              "      --disabled-bg-color: #DDD;\n",
              "  }\n",
              "\n",
              "  [theme=dark] .colab-df-quickchart {\n",
              "      --bg-color: #3B4455;\n",
              "      --fill-color: #D2E3FC;\n",
              "      --hover-bg-color: #434B5C;\n",
              "      --hover-fill-color: #FFFFFF;\n",
              "      --disabled-bg-color: #3B4455;\n",
              "      --disabled-fill-color: #666;\n",
              "  }\n",
              "\n",
              "  .colab-df-quickchart {\n",
              "    background-color: var(--bg-color);\n",
              "    border: none;\n",
              "    border-radius: 50%;\n",
              "    cursor: pointer;\n",
              "    display: none;\n",
              "    fill: var(--fill-color);\n",
              "    height: 32px;\n",
              "    padding: 0;\n",
              "    width: 32px;\n",
              "  }\n",
              "\n",
              "  .colab-df-quickchart:hover {\n",
              "    background-color: var(--hover-bg-color);\n",
              "    box-shadow: 0 1px 2px rgba(60, 64, 67, 0.3), 0 1px 3px 1px rgba(60, 64, 67, 0.15);\n",
              "    fill: var(--button-hover-fill-color);\n",
              "  }\n",
              "\n",
              "  .colab-df-quickchart-complete:disabled,\n",
              "  .colab-df-quickchart-complete:disabled:hover {\n",
              "    background-color: var(--disabled-bg-color);\n",
              "    fill: var(--disabled-fill-color);\n",
              "    box-shadow: none;\n",
              "  }\n",
              "\n",
              "  .colab-df-spinner {\n",
              "    border: 2px solid var(--fill-color);\n",
              "    border-color: transparent;\n",
              "    border-bottom-color: var(--fill-color);\n",
              "    animation:\n",
              "      spin 1s steps(1) infinite;\n",
              "  }\n",
              "\n",
              "  @keyframes spin {\n",
              "    0% {\n",
              "      border-color: transparent;\n",
              "      border-bottom-color: var(--fill-color);\n",
              "      border-left-color: var(--fill-color);\n",
              "    }\n",
              "    20% {\n",
              "      border-color: transparent;\n",
              "      border-left-color: var(--fill-color);\n",
              "      border-top-color: var(--fill-color);\n",
              "    }\n",
              "    30% {\n",
              "      border-color: transparent;\n",
              "      border-left-color: var(--fill-color);\n",
              "      border-top-color: var(--fill-color);\n",
              "      border-right-color: var(--fill-color);\n",
              "    }\n",
              "    40% {\n",
              "      border-color: transparent;\n",
              "      border-right-color: var(--fill-color);\n",
              "      border-top-color: var(--fill-color);\n",
              "    }\n",
              "    60% {\n",
              "      border-color: transparent;\n",
              "      border-right-color: var(--fill-color);\n",
              "    }\n",
              "    80% {\n",
              "      border-color: transparent;\n",
              "      border-right-color: var(--fill-color);\n",
              "      border-bottom-color: var(--fill-color);\n",
              "    }\n",
              "    90% {\n",
              "      border-color: transparent;\n",
              "      border-bottom-color: var(--fill-color);\n",
              "    }\n",
              "  }\n",
              "</style>\n",
              "\n",
              "  <script>\n",
              "    async function quickchart(key) {\n",
              "      const quickchartButtonEl =\n",
              "        document.querySelector('#' + key + ' button');\n",
              "      quickchartButtonEl.disabled = true;  // To prevent multiple clicks.\n",
              "      quickchartButtonEl.classList.add('colab-df-spinner');\n",
              "      try {\n",
              "        const charts = await google.colab.kernel.invokeFunction(\n",
              "            'suggestCharts', [key], {});\n",
              "      } catch (error) {\n",
              "        console.error('Error during call to suggestCharts:', error);\n",
              "      }\n",
              "      quickchartButtonEl.classList.remove('colab-df-spinner');\n",
              "      quickchartButtonEl.classList.add('colab-df-quickchart-complete');\n",
              "    }\n",
              "    (() => {\n",
              "      let quickchartButtonEl =\n",
              "        document.querySelector('#df-8b08984f-4189-4f95-926e-13aec2e05a2a button');\n",
              "      quickchartButtonEl.style.display =\n",
              "        google.colab.kernel.accessAllowed ? 'block' : 'none';\n",
              "    })();\n",
              "  </script>\n",
              "</div>\n",
              "\n",
              "    </div>\n",
              "  </div>\n"
            ],
            "application/vnd.google.colaboratory.intrinsic+json": {
              "type": "dataframe",
              "variable_name": "df",
              "summary": "{\n  \"name\": \"df\",\n  \"rows\": 1000,\n  \"fields\": [\n    {\n      \"column\": \"Unnamed: 0\",\n      \"properties\": {\n        \"dtype\": \"number\",\n        \"std\": 288,\n        \"min\": 0,\n        \"max\": 999,\n        \"num_unique_values\": 1000,\n        \"samples\": [\n          521,\n          737,\n          740\n        ],\n        \"semantic_type\": \"\",\n        \"description\": \"\"\n      }\n    },\n    {\n      \"column\": \"estado\",\n      \"properties\": {\n        \"dtype\": \"category\",\n        \"num_unique_values\": 27,\n        \"samples\": [\n          \"AC\",\n          \"PA\",\n          \"SC\"\n        ],\n        \"semantic_type\": \"\",\n        \"description\": \"\"\n      }\n    },\n    {\n      \"column\": \"idade\",\n      \"properties\": {\n        \"dtype\": \"number\",\n        \"std\": 13,\n        \"min\": 18,\n        \"max\": 64,\n        \"num_unique_values\": 47,\n        \"samples\": [\n          24,\n          48,\n          54\n        ],\n        \"semantic_type\": \"\",\n        \"description\": \"\"\n      }\n    },\n    {\n      \"column\": \"escolaridade\",\n      \"properties\": {\n        \"dtype\": \"category\",\n        \"num_unique_values\": 4,\n        \"samples\": [\n          \"Superior\",\n          \"P\\u00f3s-gradua\\u00e7\\u00e3o\",\n          \"Fundamental\"\n        ],\n        \"semantic_type\": \"\",\n        \"description\": \"\"\n      }\n    },\n    {\n      \"column\": \"n\\u00edvel de profici\\u00eancia em ingl\\u00eas\",\n      \"properties\": {\n        \"dtype\": \"category\",\n        \"num_unique_values\": 3,\n        \"samples\": [\n          \"Intermedi\\u00e1rio\",\n          \"B\\u00e1sico\",\n          \"Avan\\u00e7ado\"\n        ],\n        \"semantic_type\": \"\",\n        \"description\": \"\"\n      }\n    },\n    {\n      \"column\": \"renda\",\n      \"properties\": {\n        \"dtype\": \"number\",\n        \"std\": 996.5722393121418,\n        \"min\": 103.74,\n        \"max\": 5632.38,\n        \"num_unique_values\": 998,\n        \"samples\": [\n          2752.82,\n          4218.76,\n          2244.62\n        ],\n        \"semantic_type\": \"\",\n        \"description\": \"\"\n      }\n    },\n    {\n      \"column\": \"sexo\",\n      \"properties\": {\n        \"dtype\": \"category\",\n        \"num_unique_values\": 2,\n        \"samples\": [\n          \"M\",\n          \"F\"\n        ],\n        \"semantic_type\": \"\",\n        \"description\": \"\"\n      }\n    }\n  ]\n}"
            }
          },
          "metadata": {},
          "execution_count": 3
        }
      ]
    },
    {
      "cell_type": "markdown",
      "source": [
        "1. Considere pessoas fluentes em inglês, qual a probabilidade\n",
        "complementar? Ou seja, qual a probabilidade de escolhermos uma pessoa\n",
        "aleatória e ela não ser fluente em inglês. Considere fluente quem tem o\n",
        "nível avançado.\n"
      ],
      "metadata": {
        "id": "uv4_38mhjH5A"
      }
    },
    {
      "cell_type": "code",
      "source": [
        "# Contar o total de pessoas\n",
        "total_pessoas = len(df)\n",
        "\n",
        "# Contar o número de pessoas fluentes (nível avançado)\n",
        "fluentes = len(df[df['nível de proficiência em inglês'] == 'Avançado'])\n",
        "\n",
        "# Calcular a probabilidade complementar\n",
        "prob_nao_fluente = 1 - (fluentes / total_pessoas)\n",
        "\n",
        "print(f'Probabilidade complementar (não fluente): {prob_nao_fluente:.2%}')\n"
      ],
      "metadata": {
        "colab": {
          "base_uri": "https://localhost:8080/"
        },
        "id": "R9swi8o5lkYF",
        "outputId": "fd6ace96-9623-4f4c-eed8-af0055e03e2a"
      },
      "execution_count": 4,
      "outputs": [
        {
          "output_type": "stream",
          "name": "stdout",
          "text": [
            "Probabilidade complementar (não fluente): 65.60%\n"
          ]
        }
      ]
    },
    {
      "cell_type": "markdown",
      "source": [
        "2. Se uma pessoa escolhida aleatoriamente for de Alagoas ou do Pará, qual\n",
        "é a probabilidade de ela ter uma renda superior a 5 mil reais?\n"
      ],
      "metadata": {
        "id": "vBxkdIWMmO07"
      }
    },
    {
      "cell_type": "code",
      "source": [
        "#Quantas linhas e colunas tem o dataset?\n",
        "\n",
        "# Exibe o número de linhas e colunas.\n",
        "print(f\"Número de linhas: {df.shape[0]}\")\n",
        "print(f\"Número de Colunas: {df.shape[1]}\")"
      ],
      "metadata": {
        "colab": {
          "base_uri": "https://localhost:8080/"
        },
        "id": "v7bD3ARMmLdU",
        "outputId": "721bcf8e-b7ea-4d24-a019-9c60e2ef2a6a"
      },
      "execution_count": 5,
      "outputs": [
        {
          "output_type": "stream",
          "name": "stdout",
          "text": [
            "Número de linhas: 1000\n",
            "Número de Colunas: 7\n"
          ]
        }
      ]
    },
    {
      "cell_type": "code",
      "source": [
        "#Quais são os tipos das variáveis e se há valores ausentes?\n",
        "\n",
        "# Exibir tipos de dados de cada coluna\n",
        "print(df.dtypes)\n",
        "\n",
        "# Verifique se há valores ausentes\n",
        "print(df.isnull().sum())"
      ],
      "metadata": {
        "colab": {
          "base_uri": "https://localhost:8080/"
        },
        "id": "BbMIeIJjp5J3",
        "outputId": "39baf1a8-4f93-44d1-ebe8-7f00eaa0664f"
      },
      "execution_count": 6,
      "outputs": [
        {
          "output_type": "stream",
          "name": "stdout",
          "text": [
            "Unnamed: 0                           int64\n",
            "estado                              object\n",
            "idade                                int64\n",
            "escolaridade                        object\n",
            "nível de proficiência em inglês     object\n",
            "renda                              float64\n",
            "sexo                                object\n",
            "dtype: object\n",
            "Unnamed: 0                         0\n",
            "estado                             0\n",
            "idade                              0\n",
            "escolaridade                       0\n",
            "nível de proficiência em inglês    0\n",
            "renda                              0\n",
            "sexo                               0\n",
            "dtype: int64\n"
          ]
        }
      ]
    },
    {
      "cell_type": "code",
      "source": [
        "# Lista das siglas dos estados brasileiros\n",
        "estados_validos = [\n",
        "    \"AC\", \"AL\", \"AP\", \"AM\", \"BA\", \"CE\", \"DF\", \"ES\", \"GO\", \"MA\", \"MT\",\n",
        "    \"MS\", \"MG\", \"PA\", \"PB\", \"PR\", \"PE\", \"PI\", \"RJ\", \"RN\", \"RS\", \"RO\",\n",
        "    \"RR\", \"SC\", \"SP\", \"SE\", \"TO\"\n",
        "]\n",
        "\n",
        "# Manter apenas os valores que estão na lista de estados válidos\n",
        "df['estado'] = df['estado'].apply(lambda x: x if x in estados_validos else 'Desconhecido')\n",
        "\n",
        "# Verificar os valores únicos após a limpeza\n",
        "print(df['estado'].unique())\n"
      ],
      "metadata": {
        "colab": {
          "base_uri": "https://localhost:8080/"
        },
        "id": "n-JpZ58sqRf-",
        "outputId": "686612e3-a777-4bcb-bb7b-d581f85720bb"
      },
      "execution_count": 19,
      "outputs": [
        {
          "output_type": "stream",
          "name": "stdout",
          "text": [
            "['MA' 'BA' 'AM' 'CE' 'SE' 'DF' 'PI' 'AP' 'AC' 'SC' 'SP' 'GO' 'RO' 'PA'\n",
            " 'MS' 'RN' 'RS' 'RR' 'PR' 'MG' 'MT' 'TO' 'PB' 'PE' 'RJ' 'AL' 'ES']\n"
          ]
        }
      ]
    },
    {
      "cell_type": "code",
      "source": [
        "df.head()"
      ],
      "metadata": {
        "colab": {
          "base_uri": "https://localhost:8080/",
          "height": 206
        },
        "id": "0wguvk-At5vj",
        "outputId": "ab70be5c-de3f-41c8-a454-a965d6729129"
      },
      "execution_count": 20,
      "outputs": [
        {
          "output_type": "execute_result",
          "data": {
            "text/plain": [
              "   Unnamed: 0 estado  idade escolaridade nível de proficiência em inglês  \\\n",
              "0           0     MA     56  Fundamental                   Intermediário   \n",
              "1           1     BA     46     Superior                          Básico   \n",
              "2           2     AM     32  Fundamental                   Intermediário   \n",
              "3           3     CE     60     Superior                          Básico   \n",
              "4           4     SE     25  Fundamental                        Avançado   \n",
              "\n",
              "     renda sexo  \n",
              "0  4006.29    F  \n",
              "1  2423.11    M  \n",
              "2  3835.69    M  \n",
              "3  1870.29    M  \n",
              "4  3529.80    M  "
            ],
            "text/html": [
              "\n",
              "  <div id=\"df-41528a1d-f517-41a0-b0a0-45f222833741\" class=\"colab-df-container\">\n",
              "    <div>\n",
              "<style scoped>\n",
              "    .dataframe tbody tr th:only-of-type {\n",
              "        vertical-align: middle;\n",
              "    }\n",
              "\n",
              "    .dataframe tbody tr th {\n",
              "        vertical-align: top;\n",
              "    }\n",
              "\n",
              "    .dataframe thead th {\n",
              "        text-align: right;\n",
              "    }\n",
              "</style>\n",
              "<table border=\"1\" class=\"dataframe\">\n",
              "  <thead>\n",
              "    <tr style=\"text-align: right;\">\n",
              "      <th></th>\n",
              "      <th>Unnamed: 0</th>\n",
              "      <th>estado</th>\n",
              "      <th>idade</th>\n",
              "      <th>escolaridade</th>\n",
              "      <th>nível de proficiência em inglês</th>\n",
              "      <th>renda</th>\n",
              "      <th>sexo</th>\n",
              "    </tr>\n",
              "  </thead>\n",
              "  <tbody>\n",
              "    <tr>\n",
              "      <th>0</th>\n",
              "      <td>0</td>\n",
              "      <td>MA</td>\n",
              "      <td>56</td>\n",
              "      <td>Fundamental</td>\n",
              "      <td>Intermediário</td>\n",
              "      <td>4006.29</td>\n",
              "      <td>F</td>\n",
              "    </tr>\n",
              "    <tr>\n",
              "      <th>1</th>\n",
              "      <td>1</td>\n",
              "      <td>BA</td>\n",
              "      <td>46</td>\n",
              "      <td>Superior</td>\n",
              "      <td>Básico</td>\n",
              "      <td>2423.11</td>\n",
              "      <td>M</td>\n",
              "    </tr>\n",
              "    <tr>\n",
              "      <th>2</th>\n",
              "      <td>2</td>\n",
              "      <td>AM</td>\n",
              "      <td>32</td>\n",
              "      <td>Fundamental</td>\n",
              "      <td>Intermediário</td>\n",
              "      <td>3835.69</td>\n",
              "      <td>M</td>\n",
              "    </tr>\n",
              "    <tr>\n",
              "      <th>3</th>\n",
              "      <td>3</td>\n",
              "      <td>CE</td>\n",
              "      <td>60</td>\n",
              "      <td>Superior</td>\n",
              "      <td>Básico</td>\n",
              "      <td>1870.29</td>\n",
              "      <td>M</td>\n",
              "    </tr>\n",
              "    <tr>\n",
              "      <th>4</th>\n",
              "      <td>4</td>\n",
              "      <td>SE</td>\n",
              "      <td>25</td>\n",
              "      <td>Fundamental</td>\n",
              "      <td>Avançado</td>\n",
              "      <td>3529.80</td>\n",
              "      <td>M</td>\n",
              "    </tr>\n",
              "  </tbody>\n",
              "</table>\n",
              "</div>\n",
              "    <div class=\"colab-df-buttons\">\n",
              "\n",
              "  <div class=\"colab-df-container\">\n",
              "    <button class=\"colab-df-convert\" onclick=\"convertToInteractive('df-41528a1d-f517-41a0-b0a0-45f222833741')\"\n",
              "            title=\"Convert this dataframe to an interactive table.\"\n",
              "            style=\"display:none;\">\n",
              "\n",
              "  <svg xmlns=\"http://www.w3.org/2000/svg\" height=\"24px\" viewBox=\"0 -960 960 960\">\n",
              "    <path d=\"M120-120v-720h720v720H120Zm60-500h600v-160H180v160Zm220 220h160v-160H400v160Zm0 220h160v-160H400v160ZM180-400h160v-160H180v160Zm440 0h160v-160H620v160ZM180-180h160v-160H180v160Zm440 0h160v-160H620v160Z\"/>\n",
              "  </svg>\n",
              "    </button>\n",
              "\n",
              "  <style>\n",
              "    .colab-df-container {\n",
              "      display:flex;\n",
              "      gap: 12px;\n",
              "    }\n",
              "\n",
              "    .colab-df-convert {\n",
              "      background-color: #E8F0FE;\n",
              "      border: none;\n",
              "      border-radius: 50%;\n",
              "      cursor: pointer;\n",
              "      display: none;\n",
              "      fill: #1967D2;\n",
              "      height: 32px;\n",
              "      padding: 0 0 0 0;\n",
              "      width: 32px;\n",
              "    }\n",
              "\n",
              "    .colab-df-convert:hover {\n",
              "      background-color: #E2EBFA;\n",
              "      box-shadow: 0px 1px 2px rgba(60, 64, 67, 0.3), 0px 1px 3px 1px rgba(60, 64, 67, 0.15);\n",
              "      fill: #174EA6;\n",
              "    }\n",
              "\n",
              "    .colab-df-buttons div {\n",
              "      margin-bottom: 4px;\n",
              "    }\n",
              "\n",
              "    [theme=dark] .colab-df-convert {\n",
              "      background-color: #3B4455;\n",
              "      fill: #D2E3FC;\n",
              "    }\n",
              "\n",
              "    [theme=dark] .colab-df-convert:hover {\n",
              "      background-color: #434B5C;\n",
              "      box-shadow: 0px 1px 3px 1px rgba(0, 0, 0, 0.15);\n",
              "      filter: drop-shadow(0px 1px 2px rgba(0, 0, 0, 0.3));\n",
              "      fill: #FFFFFF;\n",
              "    }\n",
              "  </style>\n",
              "\n",
              "    <script>\n",
              "      const buttonEl =\n",
              "        document.querySelector('#df-41528a1d-f517-41a0-b0a0-45f222833741 button.colab-df-convert');\n",
              "      buttonEl.style.display =\n",
              "        google.colab.kernel.accessAllowed ? 'block' : 'none';\n",
              "\n",
              "      async function convertToInteractive(key) {\n",
              "        const element = document.querySelector('#df-41528a1d-f517-41a0-b0a0-45f222833741');\n",
              "        const dataTable =\n",
              "          await google.colab.kernel.invokeFunction('convertToInteractive',\n",
              "                                                    [key], {});\n",
              "        if (!dataTable) return;\n",
              "\n",
              "        const docLinkHtml = 'Like what you see? Visit the ' +\n",
              "          '<a target=\"_blank\" href=https://colab.research.google.com/notebooks/data_table.ipynb>data table notebook</a>'\n",
              "          + ' to learn more about interactive tables.';\n",
              "        element.innerHTML = '';\n",
              "        dataTable['output_type'] = 'display_data';\n",
              "        await google.colab.output.renderOutput(dataTable, element);\n",
              "        const docLink = document.createElement('div');\n",
              "        docLink.innerHTML = docLinkHtml;\n",
              "        element.appendChild(docLink);\n",
              "      }\n",
              "    </script>\n",
              "  </div>\n",
              "\n",
              "\n",
              "<div id=\"df-da0b3d57-c67e-460e-ba38-c506c22b2581\">\n",
              "  <button class=\"colab-df-quickchart\" onclick=\"quickchart('df-da0b3d57-c67e-460e-ba38-c506c22b2581')\"\n",
              "            title=\"Suggest charts\"\n",
              "            style=\"display:none;\">\n",
              "\n",
              "<svg xmlns=\"http://www.w3.org/2000/svg\" height=\"24px\"viewBox=\"0 0 24 24\"\n",
              "     width=\"24px\">\n",
              "    <g>\n",
              "        <path d=\"M19 3H5c-1.1 0-2 .9-2 2v14c0 1.1.9 2 2 2h14c1.1 0 2-.9 2-2V5c0-1.1-.9-2-2-2zM9 17H7v-7h2v7zm4 0h-2V7h2v10zm4 0h-2v-4h2v4z\"/>\n",
              "    </g>\n",
              "</svg>\n",
              "  </button>\n",
              "\n",
              "<style>\n",
              "  .colab-df-quickchart {\n",
              "      --bg-color: #E8F0FE;\n",
              "      --fill-color: #1967D2;\n",
              "      --hover-bg-color: #E2EBFA;\n",
              "      --hover-fill-color: #174EA6;\n",
              "      --disabled-fill-color: #AAA;\n",
              "      --disabled-bg-color: #DDD;\n",
              "  }\n",
              "\n",
              "  [theme=dark] .colab-df-quickchart {\n",
              "      --bg-color: #3B4455;\n",
              "      --fill-color: #D2E3FC;\n",
              "      --hover-bg-color: #434B5C;\n",
              "      --hover-fill-color: #FFFFFF;\n",
              "      --disabled-bg-color: #3B4455;\n",
              "      --disabled-fill-color: #666;\n",
              "  }\n",
              "\n",
              "  .colab-df-quickchart {\n",
              "    background-color: var(--bg-color);\n",
              "    border: none;\n",
              "    border-radius: 50%;\n",
              "    cursor: pointer;\n",
              "    display: none;\n",
              "    fill: var(--fill-color);\n",
              "    height: 32px;\n",
              "    padding: 0;\n",
              "    width: 32px;\n",
              "  }\n",
              "\n",
              "  .colab-df-quickchart:hover {\n",
              "    background-color: var(--hover-bg-color);\n",
              "    box-shadow: 0 1px 2px rgba(60, 64, 67, 0.3), 0 1px 3px 1px rgba(60, 64, 67, 0.15);\n",
              "    fill: var(--button-hover-fill-color);\n",
              "  }\n",
              "\n",
              "  .colab-df-quickchart-complete:disabled,\n",
              "  .colab-df-quickchart-complete:disabled:hover {\n",
              "    background-color: var(--disabled-bg-color);\n",
              "    fill: var(--disabled-fill-color);\n",
              "    box-shadow: none;\n",
              "  }\n",
              "\n",
              "  .colab-df-spinner {\n",
              "    border: 2px solid var(--fill-color);\n",
              "    border-color: transparent;\n",
              "    border-bottom-color: var(--fill-color);\n",
              "    animation:\n",
              "      spin 1s steps(1) infinite;\n",
              "  }\n",
              "\n",
              "  @keyframes spin {\n",
              "    0% {\n",
              "      border-color: transparent;\n",
              "      border-bottom-color: var(--fill-color);\n",
              "      border-left-color: var(--fill-color);\n",
              "    }\n",
              "    20% {\n",
              "      border-color: transparent;\n",
              "      border-left-color: var(--fill-color);\n",
              "      border-top-color: var(--fill-color);\n",
              "    }\n",
              "    30% {\n",
              "      border-color: transparent;\n",
              "      border-left-color: var(--fill-color);\n",
              "      border-top-color: var(--fill-color);\n",
              "      border-right-color: var(--fill-color);\n",
              "    }\n",
              "    40% {\n",
              "      border-color: transparent;\n",
              "      border-right-color: var(--fill-color);\n",
              "      border-top-color: var(--fill-color);\n",
              "    }\n",
              "    60% {\n",
              "      border-color: transparent;\n",
              "      border-right-color: var(--fill-color);\n",
              "    }\n",
              "    80% {\n",
              "      border-color: transparent;\n",
              "      border-right-color: var(--fill-color);\n",
              "      border-bottom-color: var(--fill-color);\n",
              "    }\n",
              "    90% {\n",
              "      border-color: transparent;\n",
              "      border-bottom-color: var(--fill-color);\n",
              "    }\n",
              "  }\n",
              "</style>\n",
              "\n",
              "  <script>\n",
              "    async function quickchart(key) {\n",
              "      const quickchartButtonEl =\n",
              "        document.querySelector('#' + key + ' button');\n",
              "      quickchartButtonEl.disabled = true;  // To prevent multiple clicks.\n",
              "      quickchartButtonEl.classList.add('colab-df-spinner');\n",
              "      try {\n",
              "        const charts = await google.colab.kernel.invokeFunction(\n",
              "            'suggestCharts', [key], {});\n",
              "      } catch (error) {\n",
              "        console.error('Error during call to suggestCharts:', error);\n",
              "      }\n",
              "      quickchartButtonEl.classList.remove('colab-df-spinner');\n",
              "      quickchartButtonEl.classList.add('colab-df-quickchart-complete');\n",
              "    }\n",
              "    (() => {\n",
              "      let quickchartButtonEl =\n",
              "        document.querySelector('#df-da0b3d57-c67e-460e-ba38-c506c22b2581 button');\n",
              "      quickchartButtonEl.style.display =\n",
              "        google.colab.kernel.accessAllowed ? 'block' : 'none';\n",
              "    })();\n",
              "  </script>\n",
              "</div>\n",
              "\n",
              "    </div>\n",
              "  </div>\n"
            ],
            "application/vnd.google.colaboratory.intrinsic+json": {
              "type": "dataframe",
              "variable_name": "df",
              "summary": "{\n  \"name\": \"df\",\n  \"rows\": 1000,\n  \"fields\": [\n    {\n      \"column\": \"Unnamed: 0\",\n      \"properties\": {\n        \"dtype\": \"number\",\n        \"std\": 288,\n        \"min\": 0,\n        \"max\": 999,\n        \"num_unique_values\": 1000,\n        \"samples\": [\n          521,\n          737,\n          740\n        ],\n        \"semantic_type\": \"\",\n        \"description\": \"\"\n      }\n    },\n    {\n      \"column\": \"estado\",\n      \"properties\": {\n        \"dtype\": \"category\",\n        \"num_unique_values\": 27,\n        \"samples\": [\n          \"AC\",\n          \"PA\",\n          \"SC\"\n        ],\n        \"semantic_type\": \"\",\n        \"description\": \"\"\n      }\n    },\n    {\n      \"column\": \"idade\",\n      \"properties\": {\n        \"dtype\": \"number\",\n        \"std\": 13,\n        \"min\": 18,\n        \"max\": 64,\n        \"num_unique_values\": 47,\n        \"samples\": [\n          24,\n          48,\n          54\n        ],\n        \"semantic_type\": \"\",\n        \"description\": \"\"\n      }\n    },\n    {\n      \"column\": \"escolaridade\",\n      \"properties\": {\n        \"dtype\": \"category\",\n        \"num_unique_values\": 4,\n        \"samples\": [\n          \"Superior\",\n          \"P\\u00f3s-gradua\\u00e7\\u00e3o\",\n          \"Fundamental\"\n        ],\n        \"semantic_type\": \"\",\n        \"description\": \"\"\n      }\n    },\n    {\n      \"column\": \"n\\u00edvel de profici\\u00eancia em ingl\\u00eas\",\n      \"properties\": {\n        \"dtype\": \"category\",\n        \"num_unique_values\": 3,\n        \"samples\": [\n          \"Intermedi\\u00e1rio\",\n          \"B\\u00e1sico\",\n          \"Avan\\u00e7ado\"\n        ],\n        \"semantic_type\": \"\",\n        \"description\": \"\"\n      }\n    },\n    {\n      \"column\": \"renda\",\n      \"properties\": {\n        \"dtype\": \"number\",\n        \"std\": 996.5722393121418,\n        \"min\": 103.74,\n        \"max\": 5632.38,\n        \"num_unique_values\": 998,\n        \"samples\": [\n          2752.82,\n          4218.76,\n          2244.62\n        ],\n        \"semantic_type\": \"\",\n        \"description\": \"\"\n      }\n    },\n    {\n      \"column\": \"sexo\",\n      \"properties\": {\n        \"dtype\": \"category\",\n        \"num_unique_values\": 2,\n        \"samples\": [\n          \"M\",\n          \"F\"\n        ],\n        \"semantic_type\": \"\",\n        \"description\": \"\"\n      }\n    }\n  ]\n}"
            }
          },
          "metadata": {},
          "execution_count": 20
        }
      ]
    },
    {
      "cell_type": "code",
      "source": [
        "# Filtrar pessoas de Alagoas (AL) ou Pará (PA)\n",
        "df_al_pa = df[df['estado'].isin(['AL', 'PA'])]\n",
        "\n",
        "# Contar o total de pessoas desses estados\n",
        "total_al_pa = len(df_al_pa)\n",
        "\n",
        "# Contar quantas têm renda superior a 5 mil\n",
        "renda_superior_5k = len(df_al_pa[df_al_pa['renda'] > 5000])\n",
        "\n",
        "# Calcular a probabilidade dividindo as pessoas com renda superior a 5 mil pelo total de pessoas desses estados.\n",
        "prob_renda_superior_5k = renda_superior_5k / total_al_pa if total_al_pa > 0 else 0\n",
        "\n",
        "print(f'Probabilidade de ter renda superior a 5 mil: {prob_renda_superior_5k:.2%}')\n"
      ],
      "metadata": {
        "colab": {
          "base_uri": "https://localhost:8080/"
        },
        "id": "wCAjCz5SvV96",
        "outputId": "df6a8c88-816d-4259-d383-91e88d378f16"
      },
      "execution_count": 21,
      "outputs": [
        {
          "output_type": "stream",
          "name": "stdout",
          "text": [
            "Probabilidade de ter renda superior a 5 mil: 5.06%\n"
          ]
        }
      ]
    },
    {
      "cell_type": "markdown",
      "source": [
        "3. Descubra a probabilidade de uma pessoa, residente no estado do\n",
        "Amazonas, ter ensino superior completo (considerando apenas a\n",
        "escolaridade classificada como 'Superior'). Qual a probabilidade da quinta\n",
        "pessoa amazonense que você conversar ter ensino superior completo?"
      ],
      "metadata": {
        "id": "tCzx3xVzx_mN"
      }
    },
    {
      "cell_type": "code",
      "source": [
        "\n",
        "# Filtrar apenas pessoas do Amazonas (AM)\n",
        "df_am = df[df['estado'] == 'AM']\n",
        "\n",
        "# Contar o total de pessoas do Amazonas\n",
        "total_am = len(df_am)\n",
        "\n",
        "# Contar quantas têm ensino superior completo\n",
        "superior_am = len(df_am[df_am['escolaridade'] == 'Superior'])\n",
        "\n",
        "# Calcular a probabilidade\n",
        "prob_superior_am = superior_am / total_am if total_am > 0 else 0\n",
        "\n",
        "print(f'Probabilidade de uma pessoa do Amazonas ter ensino superior completo: {prob_superior_am:.2%}')\n"
      ],
      "metadata": {
        "colab": {
          "base_uri": "https://localhost:8080/"
        },
        "id": "8iAYogZ9w0eP",
        "outputId": "850964f7-6eaf-4a51-f8db-d87dfd1392b7"
      },
      "execution_count": 22,
      "outputs": [
        {
          "output_type": "stream",
          "name": "stdout",
          "text": [
            "Probabilidade de uma pessoa do Amazonas ter ensino superior completo: 23.68%\n"
          ]
        }
      ]
    },
    {
      "cell_type": "code",
      "source": [
        "# Cálculo da probabilidade da quinta pessoa amazonense ter ensino superior completo\n",
        "prob_quinta_pessoa = ((1 - prob_superior_am) ** 4) * prob_superior_am\n",
        "\n",
        "print(f'Probabilidade da quinta pessoa amazonense que você conversar ter ensino superior completo: {prob_quinta_pessoa:.2%}')\n"
      ],
      "metadata": {
        "colab": {
          "base_uri": "https://localhost:8080/"
        },
        "id": "KohWWkXxxo6N",
        "outputId": "cb68a653-8365-4fe4-fd15-09998843221d"
      },
      "execution_count": 23,
      "outputs": [
        {
          "output_type": "stream",
          "name": "stdout",
          "text": [
            "Probabilidade da quinta pessoa amazonense que você conversar ter ensino superior completo: 8.03%\n"
          ]
        }
      ]
    },
    {
      "cell_type": "markdown",
      "source": [
        "4. Considerando a renda das pessoas do nosso conjunto, podemos dizer\n",
        "que a renda de uma pessoa brasileira está na sua maioria em que faixa\n",
        "(faça faixa de 1.500 reais)? Qual é a sua função densidade de probabilidade?\n"
      ],
      "metadata": {
        "id": "S7mqUzA9yN-s"
      }
    },
    {
      "cell_type": "code",
      "source": [
        "# Criar faixas de renda de 1.500 em 1.500\n",
        "df['faixa_renda'] = pd.cut(df['renda'], bins=np.arange(0, df['renda'].max() + 1500, 1500))\n",
        "\n",
        "# Contar quantas pessoas estão em cada faixa\n",
        "faixa_mais_comum = df['faixa_renda'].value_counts().idxmax()\n",
        "\n",
        "print(f'A faixa de renda mais comum é: {faixa_mais_comum}')\n"
      ],
      "metadata": {
        "colab": {
          "base_uri": "https://localhost:8080/"
        },
        "id": "MYiGi8XM1B0p",
        "outputId": "5ae99d4c-f38a-4346-c4b5-9daf1650b8f0"
      },
      "execution_count": 24,
      "outputs": [
        {
          "output_type": "stream",
          "name": "stdout",
          "text": [
            "A faixa de renda mais comum é: (3000.0, 4500.0]\n"
          ]
        }
      ]
    },
    {
      "cell_type": "code",
      "source": [
        "# Plotando a Função Densidade de Probabilidade (PDF)\n",
        "plt.figure(figsize=(10,5))\n",
        "sns.kdeplot(df['renda'], fill=True, bw_adjust=1)\n",
        "\n",
        "plt.xlabel('Renda (R$)')\n",
        "plt.ylabel('Densidade')\n",
        "plt.title('Função Densidade de Probabilidade da Renda')\n",
        "plt.grid(True)\n",
        "plt.show()"
      ],
      "metadata": {
        "colab": {
          "base_uri": "https://localhost:8080/",
          "height": 487
        },
        "id": "AaLZkwjb1WlQ",
        "outputId": "09192fd8-36da-4e7d-99bd-8e1a66f4b5ec"
      },
      "execution_count": 25,
      "outputs": [
        {
          "output_type": "display_data",
          "data": {
            "text/plain": [
              "<Figure size 1000x500 with 1 Axes>"
            ],
            "image/png": "[encoded data removed]"
          },
          "metadata": {}
        }
      ]
    },
    {
      "cell_type": "markdown",
      "source": [
        "5. Calcule a média e a variância da renda da amostra. Depois faça a\n",
        "distribuição normal, inclua o gráfico.\n"
      ],
      "metadata": {
        "id": "FrxCev-N2tc-"
      }
    },
    {
      "cell_type": "code",
      "source": [
        "# Calcular média e variância da renda\n",
        "media_renda = df['renda'].mean()\n",
        "variancia_renda = df['renda'].var()\n",
        "\n",
        "print(f'Média da renda: R$ {media_renda:.2f}')\n",
        "print(f'Variância da renda: {variancia_renda:.2f}')\n"
      ],
      "metadata": {
        "colab": {
          "base_uri": "https://localhost:8080/"
        },
        "id": "JZcffgMM26tO",
        "outputId": "a7ccddc7-5936-4708-863b-49d58b11c997"
      },
      "execution_count": 26,
      "outputs": [
        {
          "output_type": "stream",
          "name": "stdout",
          "text": [
            "Média da renda: R$ 3082.54\n",
            "Variância da renda: 993156.23\n"
          ]
        }
      ]
    },
    {
      "cell_type": "code",
      "source": [
        "# Calcular desvio padrão\n",
        "desvio_padrao_renda = np.sqrt(variancia_renda)\n",
        "\n",
        "# Criar valores para o eixo X (renda)\n",
        "x = np.linspace(df['renda'].min(), df['renda'].max(), 100)\n",
        "\n",
        "# Criar a distribuição normal teórica\n",
        "pdf = norm.pdf(x, media_renda, desvio_padrao_renda)\n",
        "\n",
        "# Criar o gráfico\n",
        "plt.figure(figsize=(10,5))\n",
        "\n",
        "# Plotar a densidade real da renda\n",
        "sns.kdeplot(df['renda'], fill=True, label='Densidade real')\n",
        "\n",
        "# Plotar a distribuição normal teórica\n",
        "plt.plot(x, pdf, label='Distribuição Normal', color='red', linestyle='dashed')\n",
        "\n",
        "# Ajustes do gráfico\n",
        "plt.xlabel('Renda (R$)')\n",
        "plt.ylabel('Densidade')\n",
        "plt.title('Distribuição Normal da Renda')\n",
        "plt.legend()\n",
        "plt.grid(True)\n",
        "plt.show()\n"
      ],
      "metadata": {
        "colab": {
          "base_uri": "https://localhost:8080/",
          "height": 487
        },
        "id": "G3DgwzBw3MMu",
        "outputId": "4bb34b0e-a7aa-4093-9109-f021d9cd56b2"
      },
      "execution_count": 29,
      "outputs": [
        {
          "output_type": "display_data",
          "data": {
            "text/plain": [
              "<Figure size 1000x500 with 1 Axes>"
            ],
            "image/png": "[encoded data removed]"
          },
          "metadata": {}
        }
      ]
    },
    {
      "cell_type": "markdown",
      "source": [
        "6. Primeiro considere a probabilidade encontrada no nosso conjunto de\n",
        "pessoas com escolaridade de pós-graduação. Considerando a amostra de\n",
        "população brasileira com 1 milhão de habitantes, qual a probabilidade de\n",
        "encontrarmos 243 mil pessoas com pós-graduação?"
      ],
      "metadata": {
        "id": "JaaMDznT5YNj"
      }
    },
    {
      "cell_type": "code",
      "source": [
        "\n",
        "from scipy.stats import binom\n",
        "\n",
        "# Calcular a proporção de pessoas com pós-graduação na amostra\n",
        "p = len(df[df['escolaridade'] == 'Pós-Graduação']) / len(df)\n",
        "\n",
        "# Definir os valores do problema\n",
        "n = 1_000_000  # População de 1 milhão\n",
        "k = 243_000  # Queremos encontrar 243 mil pessoas com pós-graduação\n",
        "\n",
        "# Calcular a probabilidade usando a distribuição binomial\n",
        "prob = binom.pmf(k, n, p)\n",
        "\n",
        "print(f'Probabilidade de encontrar exatamente 243 mil pessoas com pós-graduação: {prob:.10f}')\n"
      ],
      "metadata": {
        "colab": {
          "base_uri": "https://localhost:8080/"
        },
        "id": "XMtafCLV5W9r",
        "outputId": "31e6f22c-4d98-4e9d-97a7-d6716bd29459"
      },
      "execution_count": 30,
      "outputs": [
        {
          "output_type": "stream",
          "name": "stdout",
          "text": [
            "Probabilidade de encontrar exatamente 243 mil pessoas com pós-graduação: 0.0000000000\n"
          ]
        }
      ]
    },
    {
      "cell_type": "code",
      "source": [
        "from scipy.stats import binom\n",
        "\n",
        "# Probabilidade de pelo menos 243 mil pessoas com pós-graduação\n",
        "prob_acumulada = 1 - binom.cdf(242999, 1_000_000, p)\n",
        "\n",
        "print(f'Probabilidade de encontrar pelo menos 243 mil pessoas com pós-graduação: {prob_acumulada:.10f}')\n"
      ],
      "metadata": {
        "colab": {
          "base_uri": "https://localhost:8080/"
        },
        "id": "KtUqZ2JZ6Viq",
        "outputId": "886fcbe7-c229-4e9e-c9d3-b66eb0494adb"
      },
      "execution_count": 31,
      "outputs": [
        {
          "output_type": "stream",
          "name": "stdout",
          "text": [
            "Probabilidade de encontrar pelo menos 243 mil pessoas com pós-graduação: 0.0000000000\n"
          ]
        }
      ]
    },
    {
      "cell_type": "code",
      "source": [
        "# Calcular o valor esperado\n",
        "valor_esperado = 1_000_000 * p\n",
        "\n",
        "print(f'Valor esperado de pessoas com pós-graduação: {valor_esperado:.0f}')\n"
      ],
      "metadata": {
        "colab": {
          "base_uri": "https://localhost:8080/"
        },
        "id": "bbpsw1Bd60Qh",
        "outputId": "3421f3e0-4b04-40bc-afe8-92b43d8a7231"
      },
      "execution_count": 32,
      "outputs": [
        {
          "output_type": "stream",
          "name": "stdout",
          "text": [
            "Valor esperado de pessoas com pós-graduação: 0\n"
          ]
        }
      ]
    },
    {
      "cell_type": "code",
      "source": [
        "\n",
        "# Calcular média e desvio padrão da distribuição normal aproximada\n",
        "media = 1_000_000 * p\n",
        "desvio_padrao = np.sqrt(1_000_000 * p * (1 - p))\n",
        "\n",
        "# Calcular o Z-score para 243.000\n",
        "z = (243_000 - media) / desvio_padrao\n",
        "\n",
        "# Probabilidade acumulada (P(X >= 243.000))\n",
        "prob_pelo_menos_243k = 1 - norm.cdf(z)\n",
        "\n",
        "print(f'Probabilidade aproximada de encontrar pelo menos 243 mil pessoas com pós-graduação: {prob_pelo_menos_243k:.10f}')\n"
      ],
      "metadata": {
        "colab": {
          "base_uri": "https://localhost:8080/"
        },
        "id": "xCggFjcd63cB",
        "outputId": "9cb61032-4bb4-41dd-fdc7-15a4870d8f39"
      },
      "execution_count": 33,
      "outputs": [
        {
          "output_type": "stream",
          "name": "stdout",
          "text": [
            "Probabilidade aproximada de encontrar pelo menos 243 mil pessoas com pós-graduação: 0.0000000000\n"
          ]
        },
        {
          "output_type": "stream",
          "name": "stderr",
          "text": [
            "<ipython-input-33-d8069d12d455>:6: RuntimeWarning: divide by zero encountered in scalar divide\n",
            "  z = (243_000 - media) / desvio_padrao\n"
          ]
        }
      ]
    }
  ]
}